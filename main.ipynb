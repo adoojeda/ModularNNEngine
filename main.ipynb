{
 "cells": [
  {
   "cell_type": "markdown",
   "metadata": {},
   "source": [
    "### Tests de entrenamiento para el conjunto de datos IRIS "
   ]
  },
  {
   "cell_type": "markdown",
   "metadata": {},
   "source": [
    "Importamos todas las librerias y modulos necesarios"
   ]
  },
  {
   "cell_type": "code",
   "execution_count": 1,
   "metadata": {},
   "outputs": [],
   "source": [
    "from Neural_Network.layer import Layer\n",
    "from data.load_data import load_iris_data\n",
    "from Neural_Network.neural_network import NeuralNetwork\n",
    "from sklearn.model_selection import train_test_split\n",
    "from Neural_Network.preprocessing import preprocess_data\n",
    "from Neural_Network.activations import softmax, softmax_derivate, relu, relu_derivate, tanh, tanh_derivate, sigmoid, sigmoid_derivate\n",
    "from Neural_Network import optimizers\n",
    "import numpy as np\n",
    "from Neural_Network.visualizations import plot_confusion_matrix, roc_curve"
   ]
  },
  {
   "cell_type": "markdown",
   "metadata": {},
   "source": [
    "Cargamos los datos de iris y preprocesamos los datos"
   ]
  },
  {
   "cell_type": "code",
   "execution_count": 2,
   "metadata": {},
   "outputs": [],
   "source": [
    "X, y = load_iris_data() \n",
    "X, y = preprocess_data(X, y.reshape(-1, 1))"
   ]
  },
  {
   "cell_type": "markdown",
   "metadata": {},
   "source": [
    "Dividimos los datos en conjuntos de entrenamiento y prueba"
   ]
  },
  {
   "cell_type": "code",
   "execution_count": 3,
   "metadata": {},
   "outputs": [],
   "source": [
    "X_train, X_test, y_train, y_test = train_test_split(X, y, test_size=0.2)"
   ]
  },
  {
   "cell_type": "markdown",
   "metadata": {},
   "source": [
    "Inicializamos la red neuronal y agregamos capas a esta"
   ]
  },
  {
   "cell_type": "code",
   "execution_count": 4,
   "metadata": {},
   "outputs": [],
   "source": [
    "nn = NeuralNetwork()\n",
    "nn.add_layer(Layer(4, 5, activation_func=relu, activation_derivate=relu_derivate))\n",
    "nn.add_layer(Layer(5, 3, activation_func=softmax, activation_derivate=softmax_derivate))"
   ]
  },
  {
   "cell_type": "markdown",
   "metadata": {},
   "source": [
    "Evaluamos la precisión antes y después de entrenar la red neuronal"
   ]
  },
  {
   "cell_type": "code",
   "execution_count": 5,
   "metadata": {},
   "outputs": [
    {
     "name": "stdout",
     "output_type": "stream",
     "text": [
      "accuracy before training:  0.5666666666666667\n",
      "epoch   0 - Loss 0.94109, Accuracy 0.70833\n",
      "epoch  10 - Loss 0.07581, Accuracy 1.00000\n",
      "epoch  20 - Loss 0.01608, Accuracy 1.00000\n",
      "epoch  30 - Loss 0.00604, Accuracy 1.00000\n",
      "epoch  40 - Loss 0.00308, Accuracy 1.00000\n",
      "epoch  50 - Loss 0.00180, Accuracy 1.00000\n",
      "epoch  60 - Loss 0.00118, Accuracy 1.00000\n",
      "epoch  70 - Loss 0.00081, Accuracy 1.00000\n",
      "epoch  80 - Loss 0.00060, Accuracy 1.00000\n",
      "epoch  90 - Loss 0.00046, Accuracy 1.00000\n",
      "epoch 100 - Loss 0.00036, Accuracy 1.00000\n",
      "epoch 110 - Loss 0.00030, Accuracy 1.00000\n",
      "epoch 120 - Loss 0.00025, Accuracy 1.00000\n",
      "epoch 130 - Loss 0.00021, Accuracy 1.00000\n",
      "epoch 140 - Loss 0.00018, Accuracy 1.00000\n",
      "epoch 150 - Loss 0.00015, Accuracy 1.00000\n",
      "epoch 160 - Loss 0.00013, Accuracy 1.00000\n",
      "epoch 170 - Loss 0.00012, Accuracy 1.00000\n",
      "epoch 180 - Loss 0.00010, Accuracy 1.00000\n",
      "epoch 190 - Loss 0.00009, Accuracy 1.00000\n",
      "epoch 200 - Loss 0.00008, Accuracy 1.00000\n",
      "epoch 210 - Loss 0.00007, Accuracy 1.00000\n",
      "epoch 220 - Loss 0.00006, Accuracy 1.00000\n",
      "epoch 230 - Loss 0.00005, Accuracy 1.00000\n",
      "epoch 240 - Loss 0.00005, Accuracy 1.00000\n",
      "epoch 250 - Loss 0.00004, Accuracy 1.00000\n",
      "epoch 260 - Loss 0.00004, Accuracy 1.00000\n",
      "epoch 270 - Loss 0.00003, Accuracy 1.00000\n",
      "epoch 280 - Loss 0.00003, Accuracy 1.00000\n",
      "epoch 290 - Loss 0.00003, Accuracy 1.00000\n",
      "epoch 300 - Loss 0.00003, Accuracy 1.00000\n",
      "epoch 310 - Loss 0.00002, Accuracy 1.00000\n",
      "epoch 320 - Loss 0.00002, Accuracy 1.00000\n",
      "epoch 330 - Loss 0.00002, Accuracy 1.00000\n",
      "epoch 340 - Loss 0.00002, Accuracy 1.00000\n",
      "epoch 350 - Loss 0.00002, Accuracy 1.00000\n",
      "epoch 360 - Loss 0.00001, Accuracy 1.00000\n",
      "epoch 370 - Loss 0.00001, Accuracy 1.00000\n",
      "epoch 380 - Loss 0.00001, Accuracy 1.00000\n",
      "epoch 390 - Loss 0.00001, Accuracy 1.00000\n",
      "epoch 400 - Loss 0.00001, Accuracy 1.00000\n",
      "epoch 410 - Loss 0.00001, Accuracy 1.00000\n",
      "epoch 420 - Loss 0.00001, Accuracy 1.00000\n",
      "epoch 430 - Loss 0.00001, Accuracy 1.00000\n",
      "epoch 440 - Loss 0.00001, Accuracy 1.00000\n",
      "epoch 450 - Loss 0.00001, Accuracy 1.00000\n",
      "epoch 460 - Loss 0.00001, Accuracy 1.00000\n",
      "epoch 470 - Loss 0.00001, Accuracy 1.00000\n",
      "epoch 480 - Loss 0.00001, Accuracy 1.00000\n",
      "epoch 490 - Loss 0.00001, Accuracy 1.00000\n"
     ]
    }
   ],
   "source": [
    "print(\"accuracy before training: \", NeuralNetwork.accuracy(y_test, [nn.feedforward(x) for x in X_test]))\n",
    "(acc1, loss1) = optimizers.gradient_descent(nn, X_train, y_train, NeuralNetwork.accuracy, epochs=500, learning_rate=0.01)"
   ]
  },
  {
   "cell_type": "markdown",
   "metadata": {},
   "source": [
    "El accuracy después del entrenamiento es el siguiente:"
   ]
  },
  {
   "cell_type": "code",
   "execution_count": 6,
   "metadata": {},
   "outputs": [
    {
     "name": "stdout",
     "output_type": "stream",
     "text": [
      "Accuracy after training (on test):  0.9\n"
     ]
    }
   ],
   "source": [
    "Y_pred = [nn.feedforward(x) for x in X_test]\n",
    "acc_model1 = NeuralNetwork.accuracy(y_test, Y_pred)\n",
    "print(\"Accuracy after training (on test): \", acc_model1)"
   ]
  },
  {
   "cell_type": "markdown",
   "metadata": {},
   "source": [
    "Ahora realizaremos la misma prueba pero añadiendo más capas y cambiando la función de activación"
   ]
  },
  {
   "cell_type": "code",
   "execution_count": 7,
   "metadata": {},
   "outputs": [],
   "source": [
    "nn2 = NeuralNetwork()\n",
    "nn2.add_layer(Layer(4, 20, activation_func=relu, activation_derivate=relu_derivate))\n",
    "nn2.add_layer(Layer(20, 10, activation_func=relu, activation_derivate=relu_derivate))\n",
    "nn2.add_layer(Layer(10, 6, activation_func=relu, activation_derivate=relu_derivate))\n",
    "nn2.add_layer(Layer(6, 3, activation_func=softmax, activation_derivate=softmax_derivate))"
   ]
  },
  {
   "cell_type": "code",
   "execution_count": 8,
   "metadata": {},
   "outputs": [
    {
     "name": "stdout",
     "output_type": "stream",
     "text": [
      "accuracy before training:  0.4\n",
      "epoch   0 - Loss 0.00003, Accuracy 0.87500\n",
      "epoch  10 - Loss 0.00002, Accuracy 1.00000\n",
      "epoch  20 - Loss 0.00001, Accuracy 1.00000\n",
      "epoch  30 - Loss 0.00000, Accuracy 1.00000\n",
      "epoch  40 - Loss 0.00000, Accuracy 1.00000\n",
      "epoch  50 - Loss 0.00000, Accuracy 1.00000\n",
      "epoch  60 - Loss 0.00000, Accuracy 1.00000\n",
      "epoch  70 - Loss 0.00000, Accuracy 1.00000\n",
      "epoch  80 - Loss 0.00000, Accuracy 1.00000\n",
      "epoch  90 - Loss 0.00000, Accuracy 1.00000\n",
      "epoch 100 - Loss 0.00000, Accuracy 1.00000\n",
      "epoch 110 - Loss 0.00000, Accuracy 1.00000\n",
      "epoch 120 - Loss 0.00000, Accuracy 1.00000\n",
      "epoch 130 - Loss 0.00000, Accuracy 1.00000\n",
      "epoch 140 - Loss 0.00000, Accuracy 1.00000\n",
      "epoch 150 - Loss 0.00000, Accuracy 1.00000\n",
      "epoch 160 - Loss 0.00000, Accuracy 1.00000\n",
      "epoch 170 - Loss 0.00000, Accuracy 1.00000\n",
      "epoch 180 - Loss 0.00000, Accuracy 1.00000\n",
      "epoch 190 - Loss 0.00000, Accuracy 1.00000\n",
      "epoch 200 - Loss 0.00000, Accuracy 1.00000\n",
      "epoch 210 - Loss 0.00000, Accuracy 1.00000\n",
      "epoch 220 - Loss 0.00000, Accuracy 1.00000\n",
      "epoch 230 - Loss 0.00000, Accuracy 1.00000\n",
      "epoch 240 - Loss 0.00000, Accuracy 1.00000\n",
      "epoch 250 - Loss 0.00000, Accuracy 1.00000\n",
      "epoch 260 - Loss 0.00000, Accuracy 1.00000\n",
      "epoch 270 - Loss 0.00000, Accuracy 1.00000\n",
      "epoch 280 - Loss 0.00000, Accuracy 1.00000\n",
      "epoch 290 - Loss 0.00000, Accuracy 1.00000\n",
      "epoch 300 - Loss 0.00000, Accuracy 1.00000\n",
      "epoch 310 - Loss 0.00000, Accuracy 1.00000\n",
      "epoch 320 - Loss 0.00000, Accuracy 1.00000\n",
      "epoch 330 - Loss -0.00000, Accuracy 1.00000\n",
      "epoch 340 - Loss -0.00000, Accuracy 1.00000\n",
      "epoch 350 - Loss -0.00000, Accuracy 1.00000\n",
      "epoch 360 - Loss -0.00000, Accuracy 1.00000\n",
      "epoch 370 - Loss -0.00000, Accuracy 1.00000\n",
      "epoch 380 - Loss -0.00000, Accuracy 1.00000\n",
      "epoch 390 - Loss -0.00000, Accuracy 1.00000\n",
      "epoch 400 - Loss -0.00000, Accuracy 1.00000\n",
      "epoch 410 - Loss -0.00000, Accuracy 1.00000\n",
      "epoch 420 - Loss -0.00000, Accuracy 1.00000\n",
      "epoch 430 - Loss -0.00000, Accuracy 1.00000\n",
      "epoch 440 - Loss -0.00000, Accuracy 1.00000\n",
      "epoch 450 - Loss -0.00000, Accuracy 1.00000\n",
      "epoch 460 - Loss -0.00000, Accuracy 1.00000\n",
      "epoch 470 - Loss -0.00000, Accuracy 1.00000\n",
      "epoch 480 - Loss -0.00000, Accuracy 1.00000\n",
      "epoch 490 - Loss -0.00000, Accuracy 1.00000\n"
     ]
    }
   ],
   "source": [
    "print(\"accuracy before training: \", NeuralNetwork.accuracy(y_test, [nn2.feedforward(x) for x in X_test]))\n",
    "(acc2, loss2) = optimizers.gradient_descent(nn2, X_train, y_train, NeuralNetwork.accuracy, epochs=500, learning_rate=0.01)"
   ]
  },
  {
   "cell_type": "code",
   "execution_count": 9,
   "metadata": {},
   "outputs": [
    {
     "name": "stdout",
     "output_type": "stream",
     "text": [
      "Accuracy after training (on test):  0.9\n"
     ]
    }
   ],
   "source": [
    "Y_pred2 = [nn2.feedforward(x) for x in X_test]\n",
    "acc_model2 = NeuralNetwork.accuracy(y_test, Y_pred2)\n",
    "print(\"Accuracy after training (on test): \", acc_model2)"
   ]
  },
  {
   "cell_type": "markdown",
   "metadata": {},
   "source": [
    "Como podemos ver en los resultados, nos damos cuenta que el accuracy bajó en relación con el anterior modelo:\n",
    "\n",
    "$$ \\text{Accuracy}_{1ermodelo}=0.9$$\n",
    "\n",
    "$$ \\text{Accuracy}_{2domodelo}=0.9$$\n",
    "\n",
    "\n",
    "Por lo que podemos llegar a la conclusión de que la neurona funciona bien aún poniendo más capas o cambiando las funciones de activación, aunque el primer modelo sigue siendo mejor al tener menos capas ocultas, si hacemos más pruebas podemos comprobarlo"
   ]
  },
  {
   "cell_type": "markdown",
   "metadata": {},
   "source": [
    "### Test de entrenamiento del conjunto de datos DIGITS"
   ]
  },
  {
   "cell_type": "markdown",
   "metadata": {},
   "source": [
    "Cargamos y preprocesamos los datos del conjunto de datos DIGITS"
   ]
  },
  {
   "cell_type": "code",
   "execution_count": 10,
   "metadata": {},
   "outputs": [],
   "source": [
    "from data.load_data import load_digits_data\n",
    "X, y = load_digits_data()\n",
    "X, y = preprocess_data(X, y.reshape(-1, 1))"
   ]
  },
  {
   "cell_type": "markdown",
   "metadata": {},
   "source": [
    "Dividimos los datos en conjunto de test y entrenamiento"
   ]
  },
  {
   "cell_type": "code",
   "execution_count": 11,
   "metadata": {},
   "outputs": [],
   "source": [
    "X_train, X_test, y_train, y_test = train_test_split(X, y, test_size=0.2)"
   ]
  },
  {
   "cell_type": "markdown",
   "metadata": {},
   "source": [
    "Inicializamos la red neuronal y entrenamos"
   ]
  },
  {
   "cell_type": "code",
   "execution_count": 12,
   "metadata": {},
   "outputs": [],
   "source": [
    "nn = NeuralNetwork()\n",
    "nn.add_layer(Layer(64, 5, activation_func=tanh, activation_derivate=tanh_derivate))\n",
    "nn.add_layer(Layer(5, 10, activation_func=softmax, activation_derivate=softmax_derivate))"
   ]
  },
  {
   "cell_type": "code",
   "execution_count": 13,
   "metadata": {},
   "outputs": [
    {
     "name": "stdout",
     "output_type": "stream",
     "text": [
      "accuracy before training:  0.14166666666666666\n",
      "epoch   0 - Loss 2.01389, Accuracy 0.34375\n",
      "epoch  10 - Loss 1.26487, Accuracy 0.61458\n",
      "epoch  20 - Loss 1.63944, Accuracy 0.67014\n",
      "epoch  30 - Loss 1.72320, Accuracy 0.72569\n",
      "epoch  40 - Loss 2.14356, Accuracy 0.76736\n",
      "epoch  50 - Loss 2.10963, Accuracy 0.78472\n",
      "epoch  60 - Loss 2.15020, Accuracy 0.78819\n",
      "epoch  70 - Loss 2.28043, Accuracy 0.78472\n",
      "epoch  80 - Loss 2.39769, Accuracy 0.77778\n",
      "epoch  90 - Loss 2.40791, Accuracy 0.78472\n",
      "epoch 100 - Loss 2.09208, Accuracy 0.78125\n",
      "epoch 110 - Loss 0.93739, Accuracy 0.79167\n",
      "epoch 120 - Loss 0.17911, Accuracy 0.78125\n",
      "epoch 130 - Loss 0.14457, Accuracy 0.78472\n",
      "epoch 140 - Loss 0.12525, Accuracy 0.78819\n",
      "epoch 150 - Loss 0.11122, Accuracy 0.79167\n",
      "epoch 160 - Loss 0.09286, Accuracy 0.79167\n",
      "epoch 170 - Loss 0.07645, Accuracy 0.78472\n",
      "epoch 180 - Loss 0.07930, Accuracy 0.79167\n",
      "epoch 190 - Loss 0.07238, Accuracy 0.79861\n",
      "epoch 200 - Loss 0.05640, Accuracy 0.79514\n",
      "epoch 210 - Loss 0.03819, Accuracy 0.79514\n",
      "epoch 220 - Loss 0.02955, Accuracy 0.79514\n",
      "epoch 230 - Loss 0.02410, Accuracy 0.78472\n",
      "epoch 240 - Loss 0.02380, Accuracy 0.78819\n",
      "epoch 250 - Loss 0.02125, Accuracy 0.78472\n",
      "epoch 260 - Loss 0.01859, Accuracy 0.79167\n",
      "epoch 270 - Loss 0.01661, Accuracy 0.79167\n",
      "epoch 280 - Loss 0.01472, Accuracy 0.79167\n",
      "epoch 290 - Loss 0.01311, Accuracy 0.79514\n",
      "epoch 300 - Loss 0.01183, Accuracy 0.79514\n",
      "epoch 310 - Loss 0.01341, Accuracy 0.79514\n",
      "epoch 320 - Loss 0.01273, Accuracy 0.79167\n",
      "epoch 330 - Loss 0.00981, Accuracy 0.79167\n",
      "epoch 340 - Loss 0.01132, Accuracy 0.79514\n",
      "epoch 350 - Loss 0.01038, Accuracy 0.79167\n",
      "epoch 360 - Loss 0.00997, Accuracy 0.79514\n",
      "epoch 370 - Loss 0.00977, Accuracy 0.79861\n",
      "epoch 380 - Loss 0.00991, Accuracy 0.80208\n",
      "epoch 390 - Loss 0.01073, Accuracy 0.80556\n",
      "epoch 400 - Loss 0.01294, Accuracy 0.80903\n",
      "epoch 410 - Loss 0.01373, Accuracy 0.80556\n",
      "epoch 420 - Loss 0.01171, Accuracy 0.80208\n",
      "epoch 430 - Loss 0.01316, Accuracy 0.80903\n",
      "epoch 440 - Loss 0.01774, Accuracy 0.81250\n",
      "epoch 450 - Loss 0.02062, Accuracy 0.81597\n",
      "epoch 460 - Loss 0.03295, Accuracy 0.81944\n",
      "epoch 470 - Loss 0.02188, Accuracy 0.81597\n",
      "epoch 480 - Loss 0.04171, Accuracy 0.81944\n",
      "epoch 490 - Loss 0.07022, Accuracy 0.81250\n"
     ]
    }
   ],
   "source": [
    "accuracy = NeuralNetwork.accuracy(y_test, [nn.feedforward(x) for x in X_test])\n",
    "print(\"accuracy before training: \", accuracy)\n",
    "(acc1, loss1) = optimizers.gradient_descent(nn, X_train, y_train, NeuralNetwork.accuracy, epochs=500, learning_rate=0.01)"
   ]
  },
  {
   "cell_type": "markdown",
   "metadata": {},
   "source": [
    "El accuracy final después de entrenar es el siguiente:"
   ]
  },
  {
   "cell_type": "code",
   "execution_count": 14,
   "metadata": {},
   "outputs": [
    {
     "name": "stdout",
     "output_type": "stream",
     "text": [
      "accuracy after training:  0.8111111111111111\n"
     ]
    }
   ],
   "source": [
    "new_accuracy = NeuralNetwork.accuracy(y_test, [nn.feedforward(x) for x in X_test])\n",
    "print(\"accuracy after training: \", new_accuracy)"
   ]
  },
  {
   "cell_type": "markdown",
   "metadata": {},
   "source": [
    "Como podemos observar, con este dataset el modelo entrena bien, obteniendo un accuracy del *81%*"
   ]
  },
  {
   "cell_type": "markdown",
   "metadata": {},
   "source": [
    "Ahora vamos a probar añadiendo más capas y cambiando las funciones de activación"
   ]
  },
  {
   "cell_type": "code",
   "execution_count": 15,
   "metadata": {},
   "outputs": [],
   "source": [
    "nn2 = NeuralNetwork()\n",
    "nn2.add_layer(Layer(64, 32, activation_func=sigmoid, activation_derivate=sigmoid_derivate))\n",
    "nn2.add_layer(Layer(32, 16, activation_func=sigmoid, activation_derivate=sigmoid_derivate))\n",
    "nn2.add_layer(Layer(16, 8, activation_func=sigmoid, activation_derivate=sigmoid_derivate))\n",
    "nn2.add_layer(Layer(8, 10, activation_func=softmax, activation_derivate=softmax_derivate))"
   ]
  },
  {
   "cell_type": "code",
   "execution_count": 16,
   "metadata": {},
   "outputs": [
    {
     "name": "stdout",
     "output_type": "stream",
     "text": [
      "accuracy before training:  0.09722222222222222\n",
      "epoch   0 - Loss 2.25873, Accuracy 0.21181\n",
      "epoch  10 - Loss 0.52320, Accuracy 0.80903\n",
      "epoch  20 - Loss 0.22304, Accuracy 0.88889\n",
      "epoch  30 - Loss 0.13095, Accuracy 0.91667\n",
      "epoch  40 - Loss 0.07893, Accuracy 0.93056\n",
      "epoch  50 - Loss 0.05065, Accuracy 0.92708\n",
      "epoch  60 - Loss 0.03416, Accuracy 0.92014\n",
      "epoch  70 - Loss 0.02818, Accuracy 0.92014\n",
      "epoch  80 - Loss 0.02554, Accuracy 0.92361\n",
      "epoch  90 - Loss 0.02295, Accuracy 0.93403\n",
      "epoch 100 - Loss 0.01972, Accuracy 0.93403\n",
      "epoch 110 - Loss 0.01730, Accuracy 0.93750\n",
      "epoch 120 - Loss 0.01549, Accuracy 0.93750\n",
      "epoch 130 - Loss 0.01407, Accuracy 0.93750\n",
      "epoch 140 - Loss 0.01291, Accuracy 0.93750\n",
      "epoch 150 - Loss 0.01191, Accuracy 0.93750\n",
      "epoch 160 - Loss 0.01092, Accuracy 0.93750\n",
      "epoch 170 - Loss 0.01018, Accuracy 0.93750\n",
      "epoch 180 - Loss 0.00956, Accuracy 0.93750\n",
      "epoch 190 - Loss 0.00902, Accuracy 0.93750\n",
      "epoch 200 - Loss 0.00853, Accuracy 0.93750\n",
      "epoch 210 - Loss 0.00807, Accuracy 0.93750\n",
      "epoch 220 - Loss 0.00765, Accuracy 0.93750\n",
      "epoch 230 - Loss 0.00727, Accuracy 0.93750\n",
      "epoch 240 - Loss 0.00692, Accuracy 0.93750\n",
      "epoch 250 - Loss 0.00660, Accuracy 0.93750\n",
      "epoch 260 - Loss 0.00631, Accuracy 0.93750\n",
      "epoch 270 - Loss 0.00603, Accuracy 0.93750\n",
      "epoch 280 - Loss 0.00578, Accuracy 0.93750\n",
      "epoch 290 - Loss 0.00555, Accuracy 0.93750\n",
      "epoch 300 - Loss 0.00534, Accuracy 0.94097\n",
      "epoch 310 - Loss 0.00514, Accuracy 0.94097\n",
      "epoch 320 - Loss 0.00495, Accuracy 0.94097\n",
      "epoch 330 - Loss 0.00478, Accuracy 0.94097\n",
      "epoch 340 - Loss 0.00462, Accuracy 0.94097\n",
      "epoch 350 - Loss 0.00447, Accuracy 0.94097\n",
      "epoch 360 - Loss 0.00432, Accuracy 0.94097\n",
      "epoch 370 - Loss 0.00419, Accuracy 0.94097\n",
      "epoch 380 - Loss 0.00407, Accuracy 0.94097\n",
      "epoch 390 - Loss 0.00395, Accuracy 0.94097\n",
      "epoch 400 - Loss 0.00384, Accuracy 0.94097\n",
      "epoch 410 - Loss 0.00374, Accuracy 0.94444\n",
      "epoch 420 - Loss 0.00364, Accuracy 0.94444\n",
      "epoch 430 - Loss 0.00355, Accuracy 0.94444\n",
      "epoch 440 - Loss 0.00346, Accuracy 0.94444\n",
      "epoch 450 - Loss 0.00337, Accuracy 0.94444\n",
      "epoch 460 - Loss 0.00329, Accuracy 0.94444\n",
      "epoch 470 - Loss 0.00322, Accuracy 0.94444\n",
      "epoch 480 - Loss 0.00315, Accuracy 0.94444\n",
      "epoch 490 - Loss 0.00308, Accuracy 0.94444\n"
     ]
    }
   ],
   "source": [
    "print(\"accuracy before training: \", NeuralNetwork.accuracy(y_test, [nn2.feedforward(x) for x in X_test]))\n",
    "(acc2, loss2) = optimizers.gradient_descent(nn2, X_train, y_train, NeuralNetwork.accuracy, epochs=500, learning_rate=0.01)"
   ]
  },
  {
   "cell_type": "code",
   "execution_count": 17,
   "metadata": {},
   "outputs": [
    {
     "name": "stdout",
     "output_type": "stream",
     "text": [
      "Accuracy after training (on test):  0.9583333333333334\n"
     ]
    }
   ],
   "source": [
    "Y_pred2 = [nn2.feedforward(x) for x in X_test]\n",
    "acc_model2 = NeuralNetwork.accuracy(y_test, Y_pred2)\n",
    "print(\"Accuracy after training (on test): \", acc_model2)"
   ]
  },
  {
   "cell_type": "markdown",
   "metadata": {},
   "source": [
    "Como se puede observar, en el segundo modelo se nota una clara mejoría con respecto al primero:\n",
    "\n",
    "$$ \\text{Accuracy}_{1ermodelo}=0.81$$\n",
    "\n",
    "$$ \\text{Accuracy}_{2domodelo}=0.95$$\n",
    "\n",
    "Esto es debido probablemente al uso de otra función de activación."
   ]
  },
  {
   "cell_type": "markdown",
   "metadata": {},
   "source": [
    "Ahora para poder observar mejor que tan bien funcionó el segundo modelo dibujando la curva de roc"
   ]
  },
  {
   "cell_type": "code",
   "execution_count": 19,
   "metadata": {},
   "outputs": [
    {
     "data": {
      "image/png": "[encoded data removed]",
      "text/plain": [
       "<Figure size 800x600 with 1 Axes>"
      ]
     },
     "metadata": {},
     "output_type": "display_data"
    }
   ],
   "source": [
    "from Neural_Network import visualizations\n",
    "\n",
    "visualizations.scatter_roc_curve(nn, X_test, y_test)"
   ]
  }
 ],
 "metadata": {
  "kernelspec": {
   "display_name": "Python 3",
   "language": "python",
   "name": "python3"
  },
  "language_info": {
   "codemirror_mode": {
    "name": "ipython",
    "version": 3
   },
   "file_extension": ".py",
   "mimetype": "text/x-python",
   "name": "python",
   "nbconvert_exporter": "python",
   "pygments_lexer": "ipython3",
   "version": "3.10.11"
  }
 },
 "nbformat": 4,
 "nbformat_minor": 2
}
