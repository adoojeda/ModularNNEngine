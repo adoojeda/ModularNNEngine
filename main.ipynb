{
 "cells": [
  {
   "cell_type": "markdown",
   "metadata": {},
   "source": [
    "### Tests de entrenamiento para el conjunto de datos IRIS "
   ]
  },
  {
   "cell_type": "markdown",
   "metadata": {},
   "source": [
    "Importamos todas las librerias y modulos necesarios"
   ]
  },
  {
   "cell_type": "code",
   "execution_count": 1,
   "metadata": {},
   "outputs": [],
   "source": [
    "from Neural_Network.layer import Layer\n",
    "from data.load_data import load_iris_data,load_mnist_data\n",
    "from Neural_Network.neural_network import NeuralNetwork\n",
    "from sklearn.model_selection import train_test_split\n",
    "from Neural_Network.preprocessing import preprocess_datairis,preprocess_datamnist\n",
    "from Neural_Network.activations import softmax, softmax_derivate, relu, relu_derivate\n",
    "from Neural_Network import optimizers\n",
    "import numpy as np\n",
    "from Neural_Network.plots import plot_confusion_matrix"
   ]
  },
  {
   "cell_type": "markdown",
   "metadata": {},
   "source": [
    "Cargamos los datos de iris y preprocesamos los datos"
   ]
  },
  {
   "cell_type": "code",
   "execution_count": 2,
   "metadata": {},
   "outputs": [],
   "source": [
    "X, y = load_iris_data() \n",
    "X, y = preprocess_datairis(X, y.reshape(-1, 1))"
   ]
  },
  {
   "cell_type": "markdown",
   "metadata": {},
   "source": [
    "Dividimos los datos en conjuntos de entrenamiento y prueba"
   ]
  },
  {
   "cell_type": "code",
   "execution_count": 3,
   "metadata": {},
   "outputs": [],
   "source": [
    "X_train, X_test, y_train, y_test = train_test_split(X, y, test_size=0.2)"
   ]
  },
  {
   "cell_type": "markdown",
   "metadata": {},
   "source": [
    "Inicializamos la red neuronal y agregamos capas a esta"
   ]
  },
  {
   "cell_type": "code",
   "execution_count": 4,
   "metadata": {},
   "outputs": [],
   "source": [
    "nn = NeuralNetwork()\n",
    "nn.set(Layer(4, 5, activation=relu, activation_derivate=relu_derivate))\n",
    "nn.set(Layer(5, 3, activation=softmax, activation_derivate=softmax_derivate))"
   ]
  },
  {
   "cell_type": "markdown",
   "metadata": {},
   "source": [
    "Evaluamos la precisión antes y después de entrenar la red neuronal"
   ]
  },
  {
   "cell_type": "code",
   "execution_count": 5,
   "metadata": {},
   "outputs": [
    {
     "name": "stdout",
     "output_type": "stream",
     "text": [
      "accuracy before training:  0.4\n",
      "epoch   0 - Loss 0.21215, Accuracy 0.58333\n",
      "epoch  10 - Loss 0.06296, Accuracy 1.00000\n",
      "epoch  20 - Loss 0.02432, Accuracy 0.95833\n",
      "epoch  30 - Loss 0.01283, Accuracy 0.95833\n",
      "epoch  40 - Loss 0.00855, Accuracy 0.95833\n",
      "epoch  50 - Loss 0.00616, Accuracy 0.95833\n",
      "epoch  60 - Loss 0.00469, Accuracy 0.95833\n",
      "epoch  70 - Loss 0.00371, Accuracy 0.95833\n",
      "epoch  80 - Loss 0.00303, Accuracy 0.95833\n",
      "epoch  90 - Loss 0.00254, Accuracy 0.95833\n",
      "epoch 100 - Loss 0.00217, Accuracy 0.95833\n",
      "epoch 110 - Loss 0.00188, Accuracy 0.95833\n",
      "epoch 120 - Loss 0.00165, Accuracy 0.91667\n",
      "epoch 130 - Loss 0.00146, Accuracy 0.91667\n",
      "epoch 140 - Loss 0.00129, Accuracy 0.91667\n",
      "epoch 150 - Loss 0.00115, Accuracy 0.91667\n",
      "epoch 160 - Loss 0.00103, Accuracy 0.91667\n",
      "epoch 170 - Loss 0.00093, Accuracy 0.91667\n",
      "epoch 180 - Loss 0.00084, Accuracy 0.91667\n",
      "epoch 190 - Loss 0.00077, Accuracy 0.91667\n",
      "epoch 200 - Loss 0.00070, Accuracy 0.91667\n",
      "epoch 210 - Loss 0.00064, Accuracy 0.91667\n",
      "epoch 220 - Loss 0.00059, Accuracy 0.91667\n",
      "epoch 230 - Loss 0.00054, Accuracy 0.91667\n",
      "epoch 240 - Loss 0.00050, Accuracy 0.91667\n",
      "epoch 250 - Loss 0.00046, Accuracy 0.91667\n",
      "epoch 260 - Loss 0.00043, Accuracy 0.91667\n",
      "epoch 270 - Loss 0.00040, Accuracy 0.91667\n",
      "epoch 280 - Loss 0.00037, Accuracy 0.91667\n",
      "epoch 290 - Loss 0.00034, Accuracy 0.91667\n",
      "epoch 300 - Loss 0.00032, Accuracy 0.91667\n",
      "epoch 310 - Loss 0.00030, Accuracy 0.91667\n",
      "epoch 320 - Loss 0.00028, Accuracy 0.91667\n",
      "epoch 330 - Loss 0.00026, Accuracy 0.91667\n",
      "epoch 340 - Loss 0.00025, Accuracy 0.91667\n",
      "epoch 350 - Loss 0.00023, Accuracy 0.91667\n",
      "epoch 360 - Loss 0.00022, Accuracy 0.91667\n",
      "epoch 370 - Loss 0.00021, Accuracy 0.91667\n",
      "epoch 380 - Loss 0.00020, Accuracy 0.91667\n",
      "epoch 390 - Loss 0.00018, Accuracy 0.91667\n",
      "epoch 400 - Loss 0.00018, Accuracy 0.91667\n",
      "epoch 410 - Loss 0.00017, Accuracy 0.91667\n",
      "epoch 420 - Loss 0.00016, Accuracy 0.91667\n",
      "epoch 430 - Loss 0.00015, Accuracy 0.91667\n",
      "epoch 440 - Loss 0.00014, Accuracy 0.91667\n",
      "epoch 450 - Loss 0.00014, Accuracy 0.91667\n",
      "epoch 460 - Loss 0.00013, Accuracy 0.91667\n",
      "epoch 470 - Loss 0.00012, Accuracy 0.91667\n",
      "epoch 480 - Loss 0.00012, Accuracy 0.91667\n",
      "epoch 490 - Loss 0.00011, Accuracy 0.91667\n",
      "accuracy after training:  0.9333333333333333\n"
     ]
    }
   ],
   "source": [
    "print(\"accuracy before training: \", NeuralNetwork.accuracy(y_test, [nn.feedfoward(x) for x in X_test]))\n",
    "(acc1, loss1) = optimizers.gradient_descent(nn, X_train, y_train, NeuralNetwork.accuracy, epochs=500, learning_rate=0.01)\n",
    "print(\"accuracy after training: \", NeuralNetwork.accuracy(y_test, [nn.feedfoward(x) for x in X_test]))"
   ]
  },
  {
   "cell_type": "markdown",
   "metadata": {},
   "source": [
    "Hacemos la matriz de confusión"
   ]
  },
  {
   "cell_type": "code",
   "execution_count": 6,
   "metadata": {},
   "outputs": [
    {
     "data": {
      "image/png": "[encoded data removed]",
      "text/plain": [
       "<Figure size 640x480 with 2 Axes>"
      ]
     },
     "metadata": {},
     "output_type": "display_data"
    }
   ],
   "source": [
    "y_pred = [nn.feedfoward(x) for x in X_test]\n",
    "y_pred = np.argmax(y_pred, axis=1)\n",
    "y_test = np.argmax(y_test, axis=1)\n",
    "plot_confusion_matrix(y_test, y_pred)"
   ]
  },
  {
   "cell_type": "markdown",
   "metadata": {},
   "source": [
    "### Test de entrenamiento para el conjunto de datos MNIST"
   ]
  },
  {
   "cell_type": "code",
   "execution_count": 7,
   "metadata": {},
   "outputs": [
    {
     "name": "stdout",
     "output_type": "stream",
     "text": [
      "accuracy before training:  0.09571428571428571\n",
      "epoch   0 - Loss 2.12338, Accuracy 0.15598\n"
     ]
    },
    {
     "ename": "KeyboardInterrupt",
     "evalue": "",
     "output_type": "error",
     "traceback": [
      "\u001b[1;31m---------------------------------------------------------------------------\u001b[0m",
      "\u001b[1;31mKeyboardInterrupt\u001b[0m                         Traceback (most recent call last)",
      "Cell \u001b[1;32mIn [7], line 12\u001b[0m\n\u001b[0;32m      9\u001b[0m nn\u001b[38;5;241m.\u001b[39mset(Layer(\u001b[38;5;241m64\u001b[39m, \u001b[38;5;241m10\u001b[39m, activation\u001b[38;5;241m=\u001b[39msoftmax, activation_derivate\u001b[38;5;241m=\u001b[39msoftmax_derivate))  \u001b[38;5;66;03m# Capa de salida\u001b[39;00m\n\u001b[0;32m     11\u001b[0m \u001b[38;5;28mprint\u001b[39m(\u001b[38;5;124m\"\u001b[39m\u001b[38;5;124maccuracy before training: \u001b[39m\u001b[38;5;124m\"\u001b[39m, NeuralNetwork\u001b[38;5;241m.\u001b[39maccuracy(y_test, [nn\u001b[38;5;241m.\u001b[39mfeedfoward(x) \u001b[38;5;28;01mfor\u001b[39;00m x \u001b[38;5;129;01min\u001b[39;00m X_test]))\n\u001b[1;32m---> 12\u001b[0m (acc1, loss1) \u001b[38;5;241m=\u001b[39m \u001b[43moptimizers\u001b[49m\u001b[38;5;241;43m.\u001b[39;49m\u001b[43mgradient_descent\u001b[49m\u001b[43m(\u001b[49m\u001b[43mnn\u001b[49m\u001b[43m,\u001b[49m\u001b[43m \u001b[49m\u001b[43mX_train\u001b[49m\u001b[43m,\u001b[49m\u001b[43m \u001b[49m\u001b[43my_train\u001b[49m\u001b[43m,\u001b[49m\u001b[43m \u001b[49m\u001b[43mNeuralNetwork\u001b[49m\u001b[38;5;241;43m.\u001b[39;49m\u001b[43maccuracy\u001b[49m\u001b[43m,\u001b[49m\u001b[43m \u001b[49m\u001b[43mepochs\u001b[49m\u001b[38;5;241;43m=\u001b[39;49m\u001b[38;5;241;43m10\u001b[39;49m\u001b[43m,\u001b[49m\u001b[43m \u001b[49m\u001b[43mlearning_rate\u001b[49m\u001b[38;5;241;43m=\u001b[39;49m\u001b[38;5;241;43m0.01\u001b[39;49m\u001b[43m)\u001b[49m\n\u001b[0;32m     13\u001b[0m \u001b[38;5;28mprint\u001b[39m(\u001b[38;5;124m\"\u001b[39m\u001b[38;5;124maccuracy after training: \u001b[39m\u001b[38;5;124m\"\u001b[39m, NeuralNetwork\u001b[38;5;241m.\u001b[39maccuracy(y_test, [nn\u001b[38;5;241m.\u001b[39mfeedfoward(x) \u001b[38;5;28;01mfor\u001b[39;00m x \u001b[38;5;129;01min\u001b[39;00m X_test]))\n",
      "File \u001b[1;32mc:\\Users\\leojs\\OneDrive - Universidad de Las Palmas de Gran Canaria\\Documents\\UNI\\OH\\ModularNNEngine\\Neural_Network\\optimizers.py:61\u001b[0m, in \u001b[0;36mgradient_descent\u001b[1;34m(model, X, y, measure_function, epochs, learning_rate)\u001b[0m\n\u001b[0;32m     59\u001b[0m     \u001b[38;5;28;01mfor\u001b[39;00m layer, derivate \u001b[38;5;129;01min\u001b[39;00m \u001b[38;5;28mzip\u001b[39m(model\u001b[38;5;241m.\u001b[39mlayers[::\u001b[38;5;241m-\u001b[39m\u001b[38;5;241m1\u001b[39m], derivates):\n\u001b[0;32m     60\u001b[0m         layer\u001b[38;5;241m.\u001b[39mweights \u001b[38;5;241m-\u001b[39m\u001b[38;5;241m=\u001b[39m learning_rate\u001b[38;5;241m*\u001b[39mderivate[\u001b[38;5;241m1\u001b[39m]\n\u001b[1;32m---> 61\u001b[0m         layer\u001b[38;5;241m.\u001b[39mbias \u001b[38;5;241m-\u001b[39m\u001b[38;5;241m=\u001b[39m learning_rate\u001b[38;5;241m*\u001b[39mderivate[\u001b[38;5;241m0\u001b[39m]\n\u001b[0;32m     63\u001b[0m \u001b[38;5;28;01mif\u001b[39;00m epoch \u001b[38;5;241m%\u001b[39m \u001b[38;5;241m10\u001b[39m \u001b[38;5;241m==\u001b[39m \u001b[38;5;241m0\u001b[39m:\n\u001b[0;32m     64\u001b[0m     Y_pred \u001b[38;5;241m=\u001b[39m [model\u001b[38;5;241m.\u001b[39mfeedfoward(x) \u001b[38;5;28;01mfor\u001b[39;00m x \u001b[38;5;129;01min\u001b[39;00m X_val]\n",
      "\u001b[1;31mKeyboardInterrupt\u001b[0m: "
     ]
    }
   ],
   "source": [
    "X, y = load_mnist_data()\n",
    "X, y = preprocess_datamnist(X, y.reshape(-1, 1))\n",
    "\n",
    "X_train, X_test, y_train, y_test = train_test_split(X, y, test_size=0.2)\n",
    "\n",
    "nn = NeuralNetwork()\n",
    "nn.set(Layer(784, 128, activation=relu, activation_derivate=relu_derivate))  # Primera capa\n",
    "nn.set(Layer(128, 64, activation=softmax, activation_derivate=softmax_derivate))  # Capa de salida\n",
    "\n",
    "print(\"accuracy before training: \", NeuralNetwork.accuracy(y_test, [nn.feedfoward(x) for x in X_test]))\n",
    "(acc1, loss1) = optimizers.gradient_descent(nn, X_train, y_train, NeuralNetwork.accuracy, epochs=10, learning_rate=0.01)\n",
    "print(\"accuracy after training: \", NeuralNetwork.accuracy(y_test, [nn.feedfoward(x) for x in X_test]))"
   ]
  }
 ],
 "metadata": {
  "language_info": {
   "name": "python"
  }
 },
 "nbformat": 4,
 "nbformat_minor": 2
}
