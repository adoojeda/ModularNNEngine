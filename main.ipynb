{
 "cells": [
  {
   "cell_type": "markdown",
   "metadata": {},
   "source": [
    "### Tests de entrenamiento para el conjunto de datos IRIS "
   ]
  },
  {
   "cell_type": "markdown",
   "metadata": {},
   "source": [
    "Importamos todas las librerias y modulos necesarios"
   ]
  },
  {
   "cell_type": "code",
   "execution_count": 44,
   "metadata": {},
   "outputs": [],
   "source": [
    "from Neural_Network.layer import Layer\n",
    "from data.load_data import load_iris_data\n",
    "from Neural_Network.neural_network import NeuralNetwork\n",
    "from sklearn.model_selection import train_test_split\n",
    "from Neural_Network.preprocessing import preprocess_datairis\n",
    "from Neural_Network.activations import softmax, softmax_derivate, relu, relu_derivate\n",
    "from Neural_Network import optimizers\n",
    "import numpy as np\n",
    "from Neural_Network.visualizations import plot_confusion_matrix"
   ]
  },
  {
   "cell_type": "markdown",
   "metadata": {},
   "source": [
    "Cargamos los datos de iris y preprocesamos los datos"
   ]
  },
  {
   "cell_type": "code",
   "execution_count": 45,
   "metadata": {},
   "outputs": [],
   "source": [
    "X, y = load_iris_data() \n",
    "X, y = preprocess_datairis(X, y.reshape(-1, 1))"
   ]
  },
  {
   "cell_type": "markdown",
   "metadata": {},
   "source": [
    "Dividimos los datos en conjuntos de entrenamiento y prueba"
   ]
  },
  {
   "cell_type": "code",
   "execution_count": 46,
   "metadata": {},
   "outputs": [],
   "source": [
    "X_train, X_test, y_train, y_test = train_test_split(X, y, test_size=0.2)"
   ]
  },
  {
   "cell_type": "markdown",
   "metadata": {},
   "source": [
    "Inicializamos la red neuronal y agregamos capas a esta"
   ]
  },
  {
   "cell_type": "code",
   "execution_count": 47,
   "metadata": {},
   "outputs": [],
   "source": [
    "nn = NeuralNetwork()\n",
    "nn.add_layer(Layer(4, 5, activation_func=relu, activation_derivate=relu_derivate))\n",
    "nn.add_layer(Layer(5, 3, activation_func=softmax, activation_derivate=softmax_derivate))"
   ]
  },
  {
   "cell_type": "markdown",
   "metadata": {},
   "source": [
    "Evaluamos la precisión antes y después de entrenar la red neuronal"
   ]
  },
  {
   "cell_type": "code",
   "execution_count": 48,
   "metadata": {},
   "outputs": [
    {
     "name": "stdout",
     "output_type": "stream",
     "text": [
      "accuracy before training:  0.5\n",
      "epoch   0 - Loss 1.00312, Accuracy 0.79167\n",
      "epoch  10 - Loss 0.10437, Accuracy 0.83333\n",
      "epoch  20 - Loss 0.02422, Accuracy 0.83333\n",
      "epoch  30 - Loss 0.00809, Accuracy 0.83333\n",
      "epoch  40 - Loss 0.00404, Accuracy 0.87500\n",
      "epoch  50 - Loss 0.00245, Accuracy 0.91667\n",
      "epoch  60 - Loss 0.00108, Accuracy 0.87500\n",
      "epoch  70 - Loss 0.00062, Accuracy 0.91667\n",
      "epoch  80 - Loss 0.00042, Accuracy 0.91667\n",
      "epoch  90 - Loss 0.00031, Accuracy 0.91667\n",
      "epoch 100 - Loss 0.00025, Accuracy 0.91667\n",
      "epoch 110 - Loss 0.00020, Accuracy 0.87500\n",
      "epoch 120 - Loss 0.00016, Accuracy 0.87500\n",
      "epoch 130 - Loss 0.00014, Accuracy 0.87500\n",
      "epoch 140 - Loss 0.00011, Accuracy 0.87500\n",
      "epoch 150 - Loss 0.00010, Accuracy 0.87500\n",
      "epoch 160 - Loss 0.00008, Accuracy 0.87500\n",
      "epoch 170 - Loss 0.00007, Accuracy 0.87500\n",
      "epoch 180 - Loss 0.00006, Accuracy 0.87500\n",
      "epoch 190 - Loss 0.00005, Accuracy 0.87500\n",
      "epoch 200 - Loss 0.00004, Accuracy 0.87500\n",
      "epoch 210 - Loss 0.00004, Accuracy 0.87500\n",
      "epoch 220 - Loss 0.00003, Accuracy 0.87500\n",
      "epoch 230 - Loss 0.00003, Accuracy 0.87500\n",
      "epoch 240 - Loss 0.00003, Accuracy 0.87500\n",
      "epoch 250 - Loss 0.00002, Accuracy 0.87500\n",
      "epoch 260 - Loss 0.00002, Accuracy 0.87500\n",
      "epoch 270 - Loss 0.00002, Accuracy 0.87500\n",
      "epoch 280 - Loss 0.00002, Accuracy 0.87500\n",
      "epoch 290 - Loss 0.00002, Accuracy 0.91667\n",
      "epoch 300 - Loss 0.00001, Accuracy 0.91667\n",
      "epoch 310 - Loss 0.00001, Accuracy 0.91667\n",
      "epoch 320 - Loss 0.00001, Accuracy 0.87500\n",
      "epoch 330 - Loss 0.00001, Accuracy 0.87500\n",
      "epoch 340 - Loss 0.00001, Accuracy 0.87500\n",
      "epoch 350 - Loss 0.00001, Accuracy 0.87500\n",
      "epoch 360 - Loss 0.00001, Accuracy 0.87500\n",
      "epoch 370 - Loss 0.00001, Accuracy 0.87500\n",
      "epoch 380 - Loss 0.00001, Accuracy 0.87500\n",
      "epoch 390 - Loss 0.00001, Accuracy 0.87500\n",
      "epoch 400 - Loss 0.00001, Accuracy 0.87500\n",
      "epoch 410 - Loss 0.00001, Accuracy 0.87500\n",
      "epoch 420 - Loss 0.00001, Accuracy 0.87500\n",
      "epoch 430 - Loss 0.00001, Accuracy 0.87500\n",
      "epoch 440 - Loss 0.00001, Accuracy 0.87500\n",
      "epoch 450 - Loss 0.00001, Accuracy 0.87500\n",
      "epoch 460 - Loss 0.00000, Accuracy 0.87500\n",
      "epoch 470 - Loss 0.00000, Accuracy 0.87500\n",
      "epoch 480 - Loss 0.00000, Accuracy 0.87500\n",
      "epoch 490 - Loss 0.00000, Accuracy 0.87500\n",
      "accuracy after training:  0.9666666666666667\n"
     ]
    }
   ],
   "source": [
    "accuracy = NeuralNetwork.accuracy(y_test, [nn.feedforward(x) for x in X_test])\n",
    "print(\"accuracy before training: \", accuracy)\n",
    "(acc1, loss1) = optimizers.gradient_descent(nn, X_train, y_train, NeuralNetwork.accuracy, epochs=500, learning_rate=0.01)\n",
    "new_accuracy = NeuralNetwork.accuracy(y_test, [nn.feedforward(x) for x in X_test])\n",
    "print(\"accuracy after training: \", new_accuracy)"
   ]
  },
  {
   "cell_type": "markdown",
   "metadata": {},
   "source": [
    "Hacemos la matriz de confusión"
   ]
  },
  {
   "cell_type": "code",
   "execution_count": 49,
   "metadata": {},
   "outputs": [
    {
     "data": {
      "image/png": "[encoded data removed]",
      "text/plain": [
       "<Figure size 640x480 with 2 Axes>"
      ]
     },
     "metadata": {},
     "output_type": "display_data"
    }
   ],
   "source": [
    "y_pred = [nn.feedforward(x) for x in X_test]\n",
    "y_pred = np.argmax(y_pred, axis=1)\n",
    "y_test = np.argmax(y_test, axis=1)\n",
    "plot_confusion_matrix(y_test, y_pred)"
   ]
  },
  {
   "cell_type": "markdown",
   "metadata": {},
   "source": [
    "Ahora realizaremos la misma prueba pero añadiendo más capas"
   ]
  },
  {
   "cell_type": "code",
   "execution_count": 50,
   "metadata": {},
   "outputs": [],
   "source": [
    "X_train, X_test, y_train, y_test = train_test_split(X, y, test_size=0.2)"
   ]
  },
  {
   "cell_type": "code",
   "execution_count": 51,
   "metadata": {},
   "outputs": [],
   "source": [
    "nn = NeuralNetwork()\n",
    "nn.add_layer(Layer(4, 10, activation_func=relu, activation_derivate=relu_derivate))\n",
    "nn.add_layer(Layer(10, 5, activation_func=relu, activation_derivate=relu_derivate))\n",
    "nn.add_layer(Layer(5, 3, activation_func=softmax, activation_derivate=softmax_derivate))"
   ]
  },
  {
   "cell_type": "code",
   "execution_count": 52,
   "metadata": {},
   "outputs": [
    {
     "name": "stdout",
     "output_type": "stream",
     "text": [
      "accuracy before training:  0.06666666666666667\n",
      "epoch   0 - Loss 0.51063, Accuracy 0.54167\n",
      "epoch  10 - Loss 0.12189, Accuracy 0.91667\n",
      "epoch  20 - Loss 0.07027, Accuracy 0.95833\n",
      "epoch  30 - Loss 0.03667, Accuracy 0.95833\n",
      "epoch  40 - Loss 0.01730, Accuracy 0.95833\n",
      "epoch  50 - Loss 0.01031, Accuracy 0.95833\n",
      "epoch  60 - Loss 0.00651, Accuracy 0.95833\n",
      "epoch  70 - Loss 0.00387, Accuracy 0.95833\n",
      "epoch  80 - Loss 0.00237, Accuracy 0.95833\n",
      "epoch  90 - Loss 0.00157, Accuracy 0.95833\n",
      "epoch 100 - Loss 0.00120, Accuracy 0.95833\n",
      "epoch 110 - Loss 0.00104, Accuracy 0.95833\n",
      "epoch 120 - Loss 0.00099, Accuracy 0.95833\n",
      "epoch 130 - Loss 0.00089, Accuracy 0.95833\n",
      "epoch 140 - Loss 0.00079, Accuracy 0.95833\n",
      "epoch 150 - Loss 0.00070, Accuracy 0.95833\n",
      "epoch 160 - Loss 0.00061, Accuracy 0.95833\n",
      "epoch 170 - Loss 0.00053, Accuracy 0.95833\n",
      "epoch 180 - Loss 0.00047, Accuracy 0.95833\n",
      "epoch 190 - Loss 0.00042, Accuracy 0.95833\n",
      "epoch 200 - Loss 0.00038, Accuracy 0.95833\n",
      "epoch 210 - Loss 0.00034, Accuracy 0.95833\n",
      "epoch 220 - Loss 0.00031, Accuracy 0.95833\n",
      "epoch 230 - Loss 0.00028, Accuracy 0.91667\n",
      "epoch 240 - Loss 0.00026, Accuracy 0.91667\n",
      "epoch 250 - Loss 0.00024, Accuracy 0.91667\n",
      "epoch 260 - Loss 0.00022, Accuracy 0.91667\n",
      "epoch 270 - Loss 0.00021, Accuracy 0.91667\n",
      "epoch 280 - Loss 0.00019, Accuracy 0.91667\n",
      "epoch 290 - Loss 0.00018, Accuracy 0.91667\n",
      "epoch 300 - Loss 0.00017, Accuracy 0.91667\n",
      "epoch 310 - Loss 0.00016, Accuracy 0.91667\n",
      "epoch 320 - Loss 0.00015, Accuracy 0.91667\n",
      "epoch 330 - Loss 0.00014, Accuracy 0.91667\n",
      "epoch 340 - Loss 0.00014, Accuracy 0.91667\n",
      "epoch 350 - Loss 0.00013, Accuracy 0.91667\n",
      "epoch 360 - Loss 0.00012, Accuracy 0.91667\n",
      "epoch 370 - Loss 0.00012, Accuracy 0.91667\n",
      "epoch 380 - Loss 0.00011, Accuracy 0.91667\n",
      "epoch 390 - Loss 0.00011, Accuracy 0.91667\n",
      "epoch 400 - Loss 0.00010, Accuracy 0.91667\n",
      "epoch 410 - Loss 0.00010, Accuracy 0.91667\n",
      "epoch 420 - Loss 0.00009, Accuracy 0.91667\n",
      "epoch 430 - Loss 0.00009, Accuracy 0.91667\n",
      "epoch 440 - Loss 0.00008, Accuracy 0.91667\n",
      "epoch 450 - Loss 0.00008, Accuracy 0.91667\n",
      "epoch 460 - Loss 0.00008, Accuracy 0.91667\n",
      "epoch 470 - Loss 0.00008, Accuracy 0.91667\n",
      "epoch 480 - Loss 0.00007, Accuracy 0.91667\n",
      "epoch 490 - Loss 0.00007, Accuracy 0.91667\n",
      "accuracy after training:  0.9\n"
     ]
    }
   ],
   "source": [
    "accuracy = NeuralNetwork.accuracy(y_test, [nn.feedforward(x) for x in X_test])\n",
    "print(\"accuracy before training: \", accuracy)\n",
    "(acc1, loss1) = optimizers.gradient_descent(nn, X_train, y_train, NeuralNetwork.accuracy, epochs=500, learning_rate=0.01)\n",
    "new_accuracy = NeuralNetwork.accuracy(y_test, [nn.feedforward(x) for x in X_test])\n",
    "print(\"accuracy after training: \", new_accuracy)"
   ]
  },
  {
   "cell_type": "code",
   "execution_count": 53,
   "metadata": {},
   "outputs": [
    {
     "data": {
      "image/png": "[encoded data removed]",
      "text/plain": [
       "<Figure size 640x480 with 2 Axes>"
      ]
     },
     "metadata": {},
     "output_type": "display_data"
    }
   ],
   "source": [
    "y_pred = [nn.feedforward(x) for x in X_test]\n",
    "y_pred = np.argmax(y_pred, axis=1)\n",
    "y_test = np.argmax(y_test, axis=1)\n",
    "plot_confusion_matrix(y_test, y_pred)"
   ]
  },
  {
   "cell_type": "markdown",
   "metadata": {},
   "source": [
    "Como podemos ver en los resultados, nos damos cuenta que el accuracy bajó en relación con el anterior modelo:\n",
    "\n",
    "$$ \\text{Accuracy}_{1ermodelo}=0.96$$\n",
    "\n",
    "$$ \\text{Accuracy}_{2domodelo}=0.90$$\n",
    "\n",
    "\n",
    "Por lo que podemos llegar a la conclusión de que la neurona funciona mejor usando 1 capa oculta que con 2."
   ]
  }
 ],
 "metadata": {
  "kernelspec": {
   "display_name": "Python 3",
   "language": "python",
   "name": "python3"
  },
  "language_info": {
   "codemirror_mode": {
    "name": "ipython",
    "version": 3
   },
   "file_extension": ".py",
   "mimetype": "text/x-python",
   "name": "python",
   "nbconvert_exporter": "python",
   "pygments_lexer": "ipython3",
   "version": "3.10.11"
  }
 },
 "nbformat": 4,
 "nbformat_minor": 2
}
